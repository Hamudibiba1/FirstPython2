{
  "metadata": {
    "kernelspec": {
      "name": "xeus-python",
      "display_name": "Python (XPython)",
      "language": "python"
    },
    "language_info": {
      "file_extension": ".py",
      "mimetype": "text/x-python",
      "name": "python",
      "version": "3.10.2"
    }
  },
  "nbformat_minor": 4,
  "nbformat": 4,
  "cells": [
    {
      "cell_type": "markdown",
      "source": "# Data Science Tools and Ecosystem\n\n",
      "metadata": {}
    },
    {
      "cell_type": "markdown",
      "source": "### In this notebook, Data Science Tools and Ecosystem are summarized.",
      "metadata": {}
    },
    {
      "cell_type": "markdown",
      "source": "#### Some of the popular languages that Data Scientists use are:\n1. Python\n2. R\n3. SQL\n",
      "metadata": {}
    },
    {
      "cell_type": "markdown",
      "source": "### Some of the commonly used libraries used by Data Scientists include:",
      "metadata": {}
    },
    {
      "cell_type": "markdown",
      "source": "1. SciPy\n2. NumiPy\n3. Pandas\n4. PyTorch",
      "metadata": {}
    },
    {
      "cell_type": "markdown",
      "source": " | Data Science Tools |\n |  ----------------- |\n | Python |\n | R      |\n | SQL    |",
      "metadata": {}
    },
    {
      "cell_type": "markdown",
      "source": "### Below are a few examples of evaluating arithmetic expressions in Python.",
      "metadata": {}
    },
    {
      "cell_type": "code",
      "source": "### This a simple arithmetic expression to mutiply then add integers\n(3*4)+5",
      "metadata": {
        "trusted": true
      },
      "outputs": [
        {
          "execution_count": 2,
          "output_type": "execute_result",
          "data": {
            "text/plain": "17"
          },
          "metadata": {}
        }
      ],
      "execution_count": 2
    },
    {
      "cell_type": "code",
      "source": "### This will convert 200 minutes to hours by diving by 60\n200/60",
      "metadata": {
        "trusted": true
      },
      "outputs": [
        {
          "execution_count": 3,
          "output_type": "execute_result",
          "data": {
            "text/plain": "3.3333333333333335"
          },
          "metadata": {}
        }
      ],
      "execution_count": 3
    },
    {
      "cell_type": "markdown",
      "source": "### List popular languages for Data Science",
      "metadata": {}
    },
    {
      "cell_type": "code",
      "source": "- Python\n- R\n- SQL",
      "metadata": {
        "trusted": true
      },
      "outputs": [],
      "execution_count": null
    },
    {
      "cell_type": "markdown",
      "source": "## Author: Mohammed",
      "metadata": {}
    }
  ]
}